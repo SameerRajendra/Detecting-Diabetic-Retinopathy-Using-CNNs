{
 "cells": [
  {
   "cell_type": "code",
   "execution_count": 1,
   "metadata": {},
   "outputs": [],
   "source": [
    "import pandas as pd\n",
    "from sklearn.model_selection import train_test_split\n",
    "# ----- Set paths -----\n",
    "image_dir_train = 'train'  # Directory containing the training images\n",
    "csv_file = 'trainLabels/trainLabels.csv'  # CSV with image labels\n",
    "image_dir_val = 'test'  # (not used in this snippet, but for future validation/test)\n",
    "\n",
    "# ----- Load the CSV -----\n",
    "df = pd.read_csv(csv_file)\n",
    "df[\"image\"] = df[\"image\"].astype(str)  # ensure string format\n",
    "\n",
    "# ----- Split the data -----\n",
    "train_df, val_df = train_test_split(df, test_size=0.2, random_state=42)"
   ]
  },
  {
   "cell_type": "code",
   "execution_count": null,
   "metadata": {},
   "outputs": [],
   "source": [
    "from dataset_utils import DRDatasetGPU #Import the DRDatasetGPU class from dataset_utils.py file\n",
    "from torch.utils.data import DataLoader"
   ]
  },
  {
   "cell_type": "code",
   "execution_count": null,
   "metadata": {},
   "outputs": [
    {
     "name": "stdout",
     "output_type": "stream",
     "text": [
      "[PyTorch Dataset] Valid images found: 28100\n",
      "[PyTorch Dataset] Valid images found: 7026\n",
      "Batch image shape : torch.Size([6, 3, 380, 380])\n",
      "Batch label shape : torch.Size([6])\n",
      "Label dtype       : torch.int64\n"
     ]
    }
   ],
   "source": [
    "train_dataset = DRDatasetGPU(image_dir=image_dir_train, dataframe=train_df,test_mode=False)\n",
    "val_dataset   = DRDatasetGPU(image_dir=image_dir_train, dataframe=val_df,test_mode=False)\n",
    "train_loader = DataLoader(train_dataset, batch_size=6, shuffle=True, num_workers=4)\n",
    "val_loader   = DataLoader(val_dataset, batch_size=6, shuffle=False, num_workers=4)\n",
    "# batch_size = 6 for efficiencynetb4\n",
    "# ----- Sample batch for sanity check -----\n",
    "images, labels = next(iter(train_loader))\n",
    "print(\"Batch image shape :\", images.shape)  # [B, 3, 224, 224]\n",
    "print(\"Batch label shape :\", labels.shape)  # [B]\n",
    "print(\"Label dtype       :\", labels.dtype)  # torch.int64"
   ]
  },
  {
   "cell_type": "code",
   "execution_count": null,
   "metadata": {},
   "outputs": [
    {
     "name": "stderr",
     "output_type": "stream",
     "text": [
      "c:\\Users\\samee\\AppData\\Local\\Programs\\Python\\Python312\\Lib\\site-packages\\tqdm\\auto.py:21: TqdmWarning: IProgress not found. Please update jupyter and ipywidgets. See https://ipywidgets.readthedocs.io/en/stable/user_install.html\n",
      "  from .autonotebook import tqdm as notebook_tqdm\n"
     ]
    }
   ],
   "source": [
    "import torch.nn as nn,numpy as np\n",
    "import timm,torch\n",
    "# from torch.optim import Adam\n",
    "from tqdm import tqdm\n",
    "from sklearn.metrics import classification_report, confusion_matrix\n",
    "import torch.nn as nn\n",
    "from torchvision import models\n",
    "from sklearn.utils.class_weight import compute_class_weight"
   ]
  },
  {
   "cell_type": "markdown",
   "metadata": {},
   "source": [
    "### Model"
   ]
  },
  {
   "cell_type": "code",
   "execution_count": 3,
   "metadata": {},
   "outputs": [],
   "source": [
    "\n",
    "class EfficientNetB4_DR(nn.Module):\n",
    "    def __init__(self, num_classes=5):\n",
    "        super().__init__()\n",
    "        self.backbone = timm.create_model('efficientnet_b4', pretrained=True)\n",
    "        self.backbone.classifier = nn.Identity()  # Remove original classifier\n",
    "        self.head = nn.Sequential(\n",
    "            nn.Dropout(0.3),\n",
    "            nn.Linear(self.backbone.num_features, num_classes)\n",
    "        )\n",
    "\n",
    "    def forward(self, x):\n",
    "        x = self.backbone(x)\n",
    "        return self.head(x)\n"
   ]
  },
  {
   "cell_type": "code",
   "execution_count": null,
   "metadata": {},
   "outputs": [
    {
     "name": "stderr",
     "output_type": "stream",
     "text": [
      "Epoch 1/10: 100%|██████████| 4684/4684 [12:13<00:00,  6.39it/s]\n"
     ]
    },
    {
     "name": "stdout",
     "output_type": "stream",
     "text": [
      "Epoch 1: Train Loss = 1.3701\n",
      "→ Val Loss: 1.2773 | Val Accuracy: 76.40%\n"
     ]
    },
    {
     "name": "stderr",
     "output_type": "stream",
     "text": [
      "Epoch 2/10: 100%|██████████| 4684/4684 [12:13<00:00,  6.38it/s]\n"
     ]
    },
    {
     "name": "stdout",
     "output_type": "stream",
     "text": [
      "Epoch 2: Train Loss = 1.2784\n",
      "→ Val Loss: 1.2559 | Val Accuracy: 81.18%\n"
     ]
    },
    {
     "name": "stderr",
     "output_type": "stream",
     "text": [
      "Epoch 3/10: 100%|██████████| 4684/4684 [12:17<00:00,  6.35it/s]\n"
     ]
    },
    {
     "name": "stdout",
     "output_type": "stream",
     "text": [
      "Epoch 3: Train Loss = 1.2411\n",
      "→ Val Loss: 1.2381 | Val Accuracy: 80.33%\n"
     ]
    },
    {
     "name": "stderr",
     "output_type": "stream",
     "text": [
      "Epoch 4/10: 100%|██████████| 4684/4684 [12:18<00:00,  6.34it/s]\n"
     ]
    },
    {
     "name": "stdout",
     "output_type": "stream",
     "text": [
      "Epoch 4: Train Loss = 1.2080\n",
      "→ Val Loss: 1.2621 | Val Accuracy: 82.17%\n"
     ]
    },
    {
     "name": "stderr",
     "output_type": "stream",
     "text": [
      "Epoch 5/10: 100%|██████████| 4684/4684 [12:19<00:00,  6.34it/s]\n"
     ]
    },
    {
     "name": "stdout",
     "output_type": "stream",
     "text": [
      "Epoch 5: Train Loss = 1.1841\n",
      "→ Val Loss: 1.3026 | Val Accuracy: 78.76%\n"
     ]
    },
    {
     "name": "stderr",
     "output_type": "stream",
     "text": [
      "Epoch 6/10: 100%|██████████| 4684/4684 [12:20<00:00,  6.33it/s]\n"
     ]
    },
    {
     "name": "stdout",
     "output_type": "stream",
     "text": [
      "Epoch 6: Train Loss = 1.1696\n",
      "→ Val Loss: 1.2225 | Val Accuracy: 80.39%\n"
     ]
    },
    {
     "name": "stderr",
     "output_type": "stream",
     "text": [
      "Epoch 7/10: 100%|██████████| 4684/4684 [12:19<00:00,  6.34it/s]\n"
     ]
    },
    {
     "name": "stdout",
     "output_type": "stream",
     "text": [
      "Epoch 7: Train Loss = 1.1526\n",
      "→ Val Loss: 1.2353 | Val Accuracy: 78.95%\n"
     ]
    },
    {
     "name": "stderr",
     "output_type": "stream",
     "text": [
      "Epoch 8/10: 100%|██████████| 4684/4684 [12:19<00:00,  6.33it/s]\n"
     ]
    },
    {
     "name": "stdout",
     "output_type": "stream",
     "text": [
      "Epoch 8: Train Loss = 1.1408\n",
      "→ Val Loss: 1.2265 | Val Accuracy: 78.95%\n"
     ]
    },
    {
     "name": "stderr",
     "output_type": "stream",
     "text": [
      "Epoch 9/10: 100%|██████████| 4684/4684 [12:19<00:00,  6.34it/s]\n"
     ]
    },
    {
     "name": "stdout",
     "output_type": "stream",
     "text": [
      "Epoch 9: Train Loss = 1.1289\n",
      "→ Val Loss: 1.2052 | Val Accuracy: 80.71%\n"
     ]
    },
    {
     "name": "stderr",
     "output_type": "stream",
     "text": [
      "Epoch 10/10: 100%|██████████| 4684/4684 [12:19<00:00,  6.34it/s]\n"
     ]
    },
    {
     "name": "stdout",
     "output_type": "stream",
     "text": [
      "Epoch 10: Train Loss = 1.1154\n",
      "→ Val Loss: 1.2314 | Val Accuracy: 80.49%\n",
      "\n",
      "=== Final Evaluation Report ===\n",
      "Confusion Matrix:\n",
      "[[4876  230   46    0   23]\n",
      " [ 290  166   25    0    2]\n",
      " [ 309  198  509   22   20]\n",
      " [  11    7   98   17   32]\n",
      " [  14    3   34    7   87]]\n",
      "\n",
      "Classification Report:\n",
      "                  precision    recall  f1-score   support\n",
      "\n",
      "           No DR       0.89      0.94      0.91      5175\n",
      "            Mild       0.27      0.34      0.31       483\n",
      "        Moderate       0.71      0.48      0.58      1058\n",
      "          Severe       0.37      0.10      0.16       165\n",
      "Proliferative DR       0.53      0.60      0.56       145\n",
      "\n",
      "        accuracy                           0.80      7026\n",
      "       macro avg       0.56      0.49      0.50      7026\n",
      "    weighted avg       0.80      0.80      0.80      7026\n",
      "\n"
     ]
    }
   ],
   "source": [
    "\n",
    "# ---- Model, Loss, Optimizer Setup ----\n",
    "device = \"cuda\" if torch.cuda.is_available() else \"cpu\"\n",
    "model_efficientnet = EfficientNetB4_DR(num_classes=5).to(device)\n",
    "\n",
    "# Compute weights using full train dataframe\n",
    "classes = np.array([0, 1, 2, 3, 4])\n",
    "weights = compute_class_weight(class_weight=\"balanced\", classes=classes, y=train_df[\"level\"])\n",
    "weights = np.clip(weights, 0.5, 3.0)  # avoid extremely high weights\n",
    "class_weights = torch.tensor(weights, dtype=torch.float).to(device)\n",
    "\n",
    "criterion = nn.CrossEntropyLoss(class_weights,label_smoothing=0.05)\n",
    "\n",
    "optimizer = torch.optim.Adam(model_efficientnet.parameters(), lr=5e-4,weight_decay=3e-4)#EfficientNetB4_DR\n",
    "\n",
    "\n",
    "# ---- Training Loop ----\n",
    "num_epochs = 10\n",
    "best_val_loss = float('inf')\n",
    "patience = 3\n",
    "\n",
    "for epoch in range(num_epochs):\n",
    "    model_efficientnet.train()\n",
    "    running_loss = 0.0\n",
    "\n",
    "    for images, labels in tqdm(train_loader, desc=f\"Epoch {epoch+1}/{num_epochs}\"):\n",
    "        images, labels = images.to(device,non_blocking=True), labels.to(device,non_blocking=True)\n",
    "\n",
    "        optimizer.zero_grad()\n",
    "        logits = model_efficientnet(images)\n",
    "        loss = criterion(logits, labels)\n",
    "        loss.backward()\n",
    "        optimizer.step()\n",
    "        \n",
    "        \n",
    "\n",
    "        running_loss += loss.item()\n",
    "\n",
    "    avg_train_loss = running_loss / len(train_loader)\n",
    "    print(f\"Epoch {epoch+1}: Train Loss = {avg_train_loss:.4f}\")\n",
    "    \n",
    "    # ---- Validation ----\n",
    "    model_efficientnet.eval()\n",
    "    val_loss, correct, total = 0.0, 0, 0\n",
    "    all_preds, all_targets = [], []\n",
    "\n",
    "    with torch.no_grad():\n",
    "        for images, labels in val_loader:\n",
    "            images, labels = images.to(device), labels.to(device)\n",
    "            logits = model_efficientnet(images)\n",
    "            loss = criterion(logits, labels)\n",
    "            val_loss += loss.item()\n",
    "\n",
    "            preds = torch.argmax(logits, dim=1)\n",
    "            all_preds.append(preds.cpu())\n",
    "            all_targets.append(labels.cpu())\n",
    "\n",
    "            correct += (preds == labels).sum().item()\n",
    "            total += labels.size(0)\n",
    "\n",
    "    avg_val_loss = val_loss / len(val_loader)\n",
    "    val_acc = correct / total\n",
    "    print(f\"→ Val Loss: {avg_val_loss:.4f} | Val Accuracy: {val_acc:.2%}\")\n",
    "    \n",
    "     # Early stopping logic\n",
    "    if avg_val_loss < best_val_loss:\n",
    "        best_val_loss = avg_val_loss\n",
    "        stop_counter = 0\n",
    "        torch.save(model_efficientnet.state_dict(), \"EfficientNetB4_DR_model2.pt\")\n",
    "        best_preds = torch.cat(all_preds)\n",
    "        best_targets = torch.cat(all_targets)\n",
    "    torch.cuda.empty_cache()\n",
    "\n",
    "# ---- Evaluation ----\n",
    "print(\"\\n=== Final Evaluation Report ===\")\n",
    "y_true = torch.cat(all_targets).numpy()\n",
    "y_pred = torch.cat(all_preds).numpy()\n",
    "\n",
    "print(\"Confusion Matrix:\")\n",
    "print(confusion_matrix(y_true, y_pred))\n",
    "\n",
    "print(\"\\nClassification Report:\")\n",
    "print(classification_report(y_true, y_pred, target_names=[\n",
    "    \"No DR\", \"Mild\", \"Moderate\", \"Severe\", \"Proliferative DR\"]))\n"
   ]
  }
 ],
 "metadata": {
  "kernelspec": {
   "display_name": "Python 3",
   "language": "python",
   "name": "python3"
  },
  "language_info": {
   "codemirror_mode": {
    "name": "ipython",
    "version": 3
   },
   "file_extension": ".py",
   "mimetype": "text/x-python",
   "name": "python",
   "nbconvert_exporter": "python",
   "pygments_lexer": "ipython3",
   "version": "3.12.10"
  }
 },
 "nbformat": 4,
 "nbformat_minor": 2
}
